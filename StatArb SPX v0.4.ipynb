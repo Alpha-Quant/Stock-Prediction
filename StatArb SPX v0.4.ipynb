{
 "cells": [
  {
   "cell_type": "markdown",
   "metadata": {},
   "source": [
    "# StatArb SPX\n",
    "\n",
    "Daily [long best k] & [short worst k] of S&P500 constituents\n",
    "\n",
    "Implementation of paper: DNNs, GBTs, RAFs: StatArb on the S&P500 (Krauss et al., 2016)"
   ]
  },
  {
   "cell_type": "code",
   "execution_count": 1,
   "metadata": {
    "collapsed": false
   },
   "outputs": [],
   "source": [
    "import numpy as np\n",
    "import pandas as pd\n",
    "from sklearn import model_selection, preprocessing, metrics"
   ]
  },
  {
   "cell_type": "markdown",
   "metadata": {},
   "source": [
    "## 1. Gather data"
   ]
  },
  {
   "cell_type": "code",
   "execution_count": 2,
   "metadata": {
    "collapsed": false,
    "scrolled": true
   },
   "outputs": [
    {
     "data": {
      "text/html": [
       "<div>\n",
       "<table border=\"1\" class=\"dataframe\">\n",
       "  <thead>\n",
       "    <tr style=\"text-align: right;\">\n",
       "      <th></th>\n",
       "      <th>Name</th>\n",
       "      <th>AMAZON.COM</th>\n",
       "      <th>ABBOTT LABORATORIES</th>\n",
       "      <th>AES</th>\n",
       "      <th>INTERNATIONAL BUS.MCHS.</th>\n",
       "      <th>ADOBE SYSTEMS</th>\n",
       "      <th>AIRGAS DEAD - DELIST.23/05/16</th>\n",
       "      <th>AIR PRDS.&amp; CHEMS.</th>\n",
       "      <th>E I DU PONT DE NEMOURS</th>\n",
       "      <th>BOSTON PROPERTIES</th>\n",
       "      <th>...</th>\n",
       "      <th>KRAFT HEINZ</th>\n",
       "      <th>ALPHABET 'A'</th>\n",
       "      <th>WELLTOWER</th>\n",
       "      <th>PAYPAL HOLDINGS</th>\n",
       "      <th>ALPHABET 'C'</th>\n",
       "      <th>WEC ENERGY GROUP</th>\n",
       "      <th>COLUMBIA PIPELINE GROUP DEAD - DELIST.01/07/16</th>\n",
       "      <th>MONSTER BEVERAGE</th>\n",
       "      <th>BAXALTA DEAD - DELIST.03/06/16</th>\n",
       "      <th>TEGNA</th>\n",
       "    </tr>\n",
       "  </thead>\n",
       "  <tbody>\n",
       "    <tr>\n",
       "      <th>1239</th>\n",
       "      <td>2016-10-11</td>\n",
       "      <td>42434.04</td>\n",
       "      <td>45938.98</td>\n",
       "      <td>411.29</td>\n",
       "      <td>2370.42</td>\n",
       "      <td>33858.69</td>\n",
       "      <td>15640.39</td>\n",
       "      <td>17748.89</td>\n",
       "      <td>3997.80</td>\n",
       "      <td>1224.12</td>\n",
       "      <td>...</td>\n",
       "      <td>124.96</td>\n",
       "      <td>1612.17</td>\n",
       "      <td>33664.64</td>\n",
       "      <td>106.76</td>\n",
       "      <td>140.60</td>\n",
       "      <td>22680.56</td>\n",
       "      <td>82.65</td>\n",
       "      <td>2060927.0</td>\n",
       "      <td>138.17</td>\n",
       "      <td>1981.30</td>\n",
       "    </tr>\n",
       "    <tr>\n",
       "      <th>1240</th>\n",
       "      <td>2016-10-12</td>\n",
       "      <td>42591.83</td>\n",
       "      <td>46028.26</td>\n",
       "      <td>416.65</td>\n",
       "      <td>2362.76</td>\n",
       "      <td>34073.13</td>\n",
       "      <td>15640.39</td>\n",
       "      <td>17770.30</td>\n",
       "      <td>3988.53</td>\n",
       "      <td>1231.23</td>\n",
       "      <td>...</td>\n",
       "      <td>124.82</td>\n",
       "      <td>1616.55</td>\n",
       "      <td>33850.74</td>\n",
       "      <td>107.68</td>\n",
       "      <td>141.16</td>\n",
       "      <td>23013.22</td>\n",
       "      <td>82.65</td>\n",
       "      <td>2090304.0</td>\n",
       "      <td>138.17</td>\n",
       "      <td>1947.62</td>\n",
       "    </tr>\n",
       "    <tr>\n",
       "      <th>1241</th>\n",
       "      <td>2016-10-13</td>\n",
       "      <td>42346.21</td>\n",
       "      <td>46028.26</td>\n",
       "      <td>418.79</td>\n",
       "      <td>2354.03</td>\n",
       "      <td>34060.51</td>\n",
       "      <td>15640.39</td>\n",
       "      <td>17696.71</td>\n",
       "      <td>3951.41</td>\n",
       "      <td>1236.80</td>\n",
       "      <td>...</td>\n",
       "      <td>124.69</td>\n",
       "      <td>1601.24</td>\n",
       "      <td>34227.84</td>\n",
       "      <td>106.78</td>\n",
       "      <td>139.73</td>\n",
       "      <td>23317.82</td>\n",
       "      <td>82.65</td>\n",
       "      <td>2102111.0</td>\n",
       "      <td>138.17</td>\n",
       "      <td>1918.75</td>\n",
       "    </tr>\n",
       "  </tbody>\n",
       "</table>\n",
       "<p>3 rows × 506 columns</p>\n",
       "</div>"
      ],
      "text/plain": [
       "           Name  AMAZON.COM  ABBOTT LABORATORIES     AES  \\\n",
       "1239 2016-10-11    42434.04             45938.98  411.29   \n",
       "1240 2016-10-12    42591.83             46028.26  416.65   \n",
       "1241 2016-10-13    42346.21             46028.26  418.79   \n",
       "\n",
       "      INTERNATIONAL BUS.MCHS.  ADOBE SYSTEMS  AIRGAS DEAD - DELIST.23/05/16  \\\n",
       "1239                  2370.42       33858.69                       15640.39   \n",
       "1240                  2362.76       34073.13                       15640.39   \n",
       "1241                  2354.03       34060.51                       15640.39   \n",
       "\n",
       "      AIR PRDS.& CHEMS.  E I DU PONT DE NEMOURS  BOSTON PROPERTIES   ...     \\\n",
       "1239           17748.89                 3997.80            1224.12   ...      \n",
       "1240           17770.30                 3988.53            1231.23   ...      \n",
       "1241           17696.71                 3951.41            1236.80   ...      \n",
       "\n",
       "      KRAFT HEINZ  ALPHABET 'A'  WELLTOWER  PAYPAL HOLDINGS  ALPHABET 'C'  \\\n",
       "1239       124.96       1612.17   33664.64           106.76        140.60   \n",
       "1240       124.82       1616.55   33850.74           107.68        141.16   \n",
       "1241       124.69       1601.24   34227.84           106.78        139.73   \n",
       "\n",
       "      WEC ENERGY GROUP  COLUMBIA PIPELINE GROUP DEAD - DELIST.01/07/16  \\\n",
       "1239          22680.56                                           82.65   \n",
       "1240          23013.22                                           82.65   \n",
       "1241          23317.82                                           82.65   \n",
       "\n",
       "      MONSTER BEVERAGE  BAXALTA DEAD - DELIST.03/06/16    TEGNA  \n",
       "1239         2060927.0                          138.17  1981.30  \n",
       "1240         2090304.0                          138.17  1947.62  \n",
       "1241         2102111.0                          138.17  1918.75  \n",
       "\n",
       "[3 rows x 506 columns]"
      ]
     },
     "execution_count": 2,
     "metadata": {},
     "output_type": "execute_result"
    }
   ],
   "source": [
    "df = pd.read_excel('../input/test.xlsx')\n",
    "df.tail(3)"
   ]
  },
  {
   "cell_type": "code",
   "execution_count": 3,
   "metadata": {
    "collapsed": false
   },
   "outputs": [
    {
     "name": "stdout",
     "output_type": "stream",
     "text": [
      "df shape: (1242, 506)\n"
     ]
    }
   ],
   "source": [
    "print('df shape:', df.shape)    # need at least 1241 (= 240 + 750 + 250 + 1) rows"
   ]
  },
  {
   "cell_type": "markdown",
   "metadata": {},
   "source": [
    "### 1a. Select data"
   ]
  },
  {
   "cell_type": "code",
   "execution_count": 4,
   "metadata": {
    "collapsed": false
   },
   "outputs": [
    {
     "name": "stdout",
     "output_type": "stream",
     "text": [
      "Array shape: (1242, 505)\n"
     ]
    }
   ],
   "source": [
    "A = np.float64(df.values[:,1:]);    print('Array shape:', A.shape)    # omit date column\n",
    "A_bin = np.isnan(A)    # (opposite) binary matrix of whether a constituent of S&P500"
   ]
  },
  {
   "cell_type": "markdown",
   "metadata": {},
   "source": [
    "## 2. Data preprocessing &\n",
    "## 3. Split dataset"
   ]
  },
  {
   "cell_type": "code",
   "execution_count": 5,
   "metadata": {
    "collapsed": false
   },
   "outputs": [
    {
     "name": "stdout",
     "output_type": "stream",
     "text": [
      "[1, 2, 3, 4, 5, 6, 7, 8, 9, 10, 11, 12, 13, 14, 15, 16, 17, 18, 19, 20, 40, 60, 80, 100, 120, 140, 160, 180, 200, 220, 240]\n",
      "p = 31\n",
      "n_lookback: 240\n",
      "\n",
      "n_training: 750\n",
      "n_testing:  250\n",
      "\n",
      "n_lookforward: 1\n"
     ]
    }
   ],
   "source": [
    "lookback = []\n",
    "for _ in range(1, 1+20):    lookback.append(_)\n",
    "for _ in range(40, 40+20*11, 20):    lookback.append(_)\n",
    "print(lookback);    lookback = np.array(lookback)    # for np array operation\n",
    "p = len(lookback);    print('p =', p)\n",
    "n_lb = max(lookback);    print('n_lookback:', n_lb)\n",
    "\n",
    "n_tn = 750;    print('\\nn_training:', n_tn)\n",
    "n_tt = 250;    print('n_testing: ',   n_tt)\n",
    "\n",
    "lookforward = np.array([1])\n",
    "n_lf = max(lookforward);    print('\\nn_lookforward:', n_lf)"
   ]
  },
  {
   "cell_type": "code",
   "execution_count": null,
   "metadata": {
    "collapsed": true
   },
   "outputs": [],
   "source": [
    "# This is to prepare for multiple batches\n",
    "#A = np.zeros((240 + 750 + 250*23 + 1, 505))\n",
    "\n",
    "# Once this ipynb is complete for a single batch, all will be put into a \"for loop\""
   ]
  },
  {
   "cell_type": "code",
   "execution_count": 6,
   "metadata": {
    "collapsed": false
   },
   "outputs": [
    {
     "name": "stdout",
     "output_type": "stream",
     "text": [
      "# of batches: 1\n",
      "Batch  0 shape: (1241, 505)\n",
      "\n",
      "Remaining: (992, 505)\n"
     ]
    }
   ],
   "source": [
    "print('# of batches:', (A.shape[0] - n_lb - n_tn - n_lf) // n_tt)\n",
    "\n",
    "c = n_lb + n_tn + n_tt + n_lf\n",
    "count = 0\n",
    "for b in range(0, A.shape[0] - c + 1, n_tt):\n",
    "    B     = A[b:b+c];    print('Batch%3d shape:' % count, B.shape)    # select batch dataset\n",
    "    B_bin = A_bin[b:b+c]\n",
    "    count += 1\n",
    "\n",
    "print('\\nRemaining:', A[b+n_tt:].shape)"
   ]
  },
  {
   "cell_type": "code",
   "execution_count": 7,
   "metadata": {
    "collapsed": false
   },
   "outputs": [
    {
     "name": "stdout",
     "output_type": "stream",
     "text": [
      "n = 491\n",
      "Batch_n shape: (1241, 491)\n"
     ]
    }
   ],
   "source": [
    "# omit columns with nan, which means \"not a constituent\"\n",
    "constituents = []\n",
    "for j in range(B_bin.shape[1]):\n",
    "    if not B_bin[0, j]:    # check the first row. No need to check other rows?\n",
    "        constituents.append(j)\n",
    "n = len(constituents);    print('n =', n)\n",
    "\n",
    "B_n     = B[:, constituents];    print('Batch_n shape:', B_n.shape)\n",
    "B_bin_n = B_bin[:, constituents]"
   ]
  },
  {
   "cell_type": "markdown",
   "metadata": {},
   "source": [
    "## 4. Feature engineering"
   ]
  },
  {
   "cell_type": "code",
   "execution_count": 8,
   "metadata": {
    "collapsed": false
   },
   "outputs": [
    {
     "name": "stdout",
     "output_type": "stream",
     "text": [
      "X_tn_raw shape: (750, 491, 31)\n",
      "X_tt_raw shape: (250, 491, 31)\n",
      "X_tn_raw_r shape: (368250, 31)\n",
      "X_tt_raw_r shape: (122750, 31)\n"
     ]
    }
   ],
   "source": [
    "# Prepare X\n",
    "\n",
    "#R_X = np.zeros((p, n))\n",
    "X_tn_raw = np.zeros((n_tn, n, p));    print('X_tn_raw shape:', X_tn_raw.shape)\n",
    "X_tt_raw = np.zeros((n_tt, n, p));    print('X_tt_raw shape:', X_tt_raw.shape)\n",
    "\n",
    "c = n_lb\n",
    "for i in range(n_tn):\n",
    "    R_X = B_n[c + i] / B_n[c + i - lookback] - 1.0    # rate of return for each lookback\n",
    "    X_tn_raw[i] = R_X.T\n",
    "\n",
    "c = n_lb + n_tn\n",
    "for i in range(n_tt):\n",
    "    R_X = B_n[c + i] / B_n[c + i - lookback] - 1.0    # rate of return for each lookback\n",
    "    X_tt_raw[i] = R_X.T\n",
    "\n",
    "X_tn_raw_r = X_tn_raw.reshape((n_tn*n, p));    print('X_tn_raw_r shape:', X_tn_raw_r.shape)\n",
    "X_tt_raw_r = X_tt_raw.reshape((n_tt*n, p));    print('X_tt_raw_r shape:', X_tt_raw_r.shape)"
   ]
  },
  {
   "cell_type": "code",
   "execution_count": 9,
   "metadata": {
    "collapsed": false
   },
   "outputs": [
    {
     "name": "stdout",
     "output_type": "stream",
     "text": [
      "y_tn_raw shape: (750, 491)\n",
      "y_tt_raw shape: (250, 491)\n",
      "y_tn_raw_r shape: (368250,)\n",
      "y_tt_raw_r shape: (122750,)\n",
      "\n",
      "# of 1's(outperformers) in y_tt: 59453\n"
     ]
    }
   ],
   "source": [
    "# Prepare y\n",
    "\n",
    "y_tn_raw = np.zeros((n_tn, n));    print('y_tn_raw shape:', y_tn_raw.shape)\n",
    "y_tt_raw = np.zeros((n_tt, n));    print('y_tt_raw shape:', y_tt_raw.shape)\n",
    "\n",
    "c = n_lb\n",
    "for i in range(n_tn):\n",
    "    R_y = B_n[c + i + lookforward] / B_n[c + i] - 1.0    # rate of return for each lookforward\n",
    "    y_tn_raw[i] = (R_y > np.median(R_y))    # whether outperformed (the cross-sectional median)\n",
    "\n",
    "c = n_lb + n_tn\n",
    "for i in range(n_tt):\n",
    "    R_y = B_n[c + i + lookforward] / B_n[c + i] - 1.0    # rate of return for each lookforward\n",
    "    y_tt_raw[i] = (R_y > np.median(R_y))    # whether outperformed (the cross-sectional median)\n",
    "\n",
    "y_tn_raw_r = y_tn_raw.ravel();    print('y_tn_raw_r shape:', y_tn_raw_r.shape)\n",
    "y_tt_raw_r = y_tt_raw.ravel();    print('y_tt_raw_r shape:', y_tt_raw_r.shape)\n",
    "\n",
    "print('\\n# of 1\\'s(outperformers) in y_tt:', int(y_tt_raw_r.sum()))"
   ]
  },
  {
   "cell_type": "markdown",
   "metadata": {},
   "source": [
    "### 4a. Feature scaling"
   ]
  },
  {
   "cell_type": "code",
   "execution_count": 10,
   "metadata": {
    "collapsed": false
   },
   "outputs": [],
   "source": [
    "# Feature scaling by m (the p lookback)\n",
    "ss = preprocessing.StandardScaler()\n",
    "X_tn_sc_r = ss.fit_transform(X_tn_raw_r)\n",
    "X_tt_sc_r = ss.transform(X_tt_raw_r)\n",
    "\n",
    "#X_tn_sc = X_tn_sc_r.reshape((n_tn, n, p))\n",
    "#X_tt_sc = X_tt_sc_r.reshape((n_tt, n, p))"
   ]
  },
  {
   "cell_type": "markdown",
   "metadata": {},
   "source": [
    "## 5. ML algos / Ensemble"
   ]
  },
  {
   "cell_type": "code",
   "execution_count": 11,
   "metadata": {
    "collapsed": true
   },
   "outputs": [],
   "source": [
    "# choose datasets to use for ML. Of course this can be altered per ML algo\n",
    "X_tn = X_tn_raw_r;    y_tn = y_tn_raw_r\n",
    "X_tt = X_tt_raw_r;    y_tt = y_tt_raw_r\n",
    "\n",
    "# choose k\n",
    "k = 10"
   ]
  },
  {
   "cell_type": "code",
   "execution_count": 12,
   "metadata": {
    "collapsed": true
   },
   "outputs": [],
   "source": [
    "# GridSearchCV : Exhaustive search of hyper-parameters for an estimator\n",
    "def gsCV(model, param_grid, scorings):\n",
    "    cv     = 5    # cross-validation splitting strategy\n",
    "    n_jobs = 4    # num of jobs to run in parallel\n",
    "\n",
    "    for scoring in scorings:\n",
    "        print('\\n# Tuning hyper-parameters for %s' % scoring)\n",
    "        gcv = model_selection.GridSearchCV(model, param_grid, scoring,\n",
    "                                           cv=cv, n_jobs=n_jobs, verbose=1)\n",
    "        gcv.fit(X_tn, y_tn)\n",
    "\n",
    "        means = gcv.cv_results_['mean_test_score']\n",
    "        stds  = gcv.cv_results_['std_test_score']\n",
    "        for mean, std, params in zip(means, stds, gcv.cv_results_['params']):\n",
    "            print('%.3f (+/-%.3f) for %r' % (mean, std * 2, params))\n",
    "        print('\\n# Best parameters on development set:', gcv.best_params_)\n",
    "\n",
    "        print('\\n# Scores computed on evaluation set:\\n')\n",
    "        print(metrics.classification_report(y_tt, gcv.predict(X_tt), digits=3))\n",
    "\n",
    "    print(gcv)\n",
    "    #print(gcv.cv_results_)\n",
    "\n",
    "scorings = ['accuracy']    # 'accuracy', 'precision', 'recall', 'f1', ..."
   ]
  },
  {
   "cell_type": "markdown",
   "metadata": {},
   "source": [
    "### 1) DNN"
   ]
  },
  {
   "cell_type": "code",
   "execution_count": 13,
   "metadata": {
    "collapsed": false
   },
   "outputs": [],
   "source": [
    "# Deep Neural Network\n",
    "from sklearn.neural_network import MLPClassifier    # Multi-Layer Perceptron\n",
    "mlp_clf = MLPClassifier((31, 10, 5), learning_rate_init=0.05, alpha=0.05, max_iter=400, verbose=1, random_state=1)\n",
    "\n",
    "param_grid = [{'hidden_layer_sizes': [(31, 10, 5), (31, 15, 5)],\n",
    "               'learning_rate_init': [0.001, 0.01, 0.05], 'alpha': [0.01, 0.05, 0.25]}]\n",
    "#gsCV(mlp_clf, param_grid, scorings)"
   ]
  },
  {
   "cell_type": "code",
   "execution_count": 14,
   "metadata": {
    "collapsed": false
   },
   "outputs": [
    {
     "name": "stdout",
     "output_type": "stream",
     "text": [
      "Iteration 1, loss = 0.69322445\n",
      "Iteration 2, loss = 0.69294716\n",
      "Iteration 3, loss = 0.69287179\n",
      "Iteration 4, loss = 0.69284879\n",
      "Iteration 5, loss = 0.69289096\n",
      "Training loss did not improve more than tol=0.000100 for two consecutive epochs. Stopping.\n"
     ]
    },
    {
     "data": {
      "text/plain": [
       "MLPClassifier(activation='relu', alpha=0.05, batch_size='auto', beta_1=0.9,\n",
       "       beta_2=0.999, early_stopping=False, epsilon=1e-08,\n",
       "       hidden_layer_sizes=(31, 10, 5), learning_rate='constant',\n",
       "       learning_rate_init=0.05, max_iter=400, momentum=0.9,\n",
       "       nesterovs_momentum=True, power_t=0.5, random_state=1, shuffle=True,\n",
       "       solver='adam', tol=0.0001, validation_fraction=0.1, verbose=1,\n",
       "       warm_start=False)"
      ]
     },
     "execution_count": 14,
     "metadata": {},
     "output_type": "execute_result"
    }
   ],
   "source": [
    "mlp_clf.fit(X_tn, y_tn)"
   ]
  },
  {
   "cell_type": "code",
   "execution_count": 15,
   "metadata": {
    "collapsed": false,
    "scrolled": false
   },
   "outputs": [
    {
     "name": "stdout",
     "output_type": "stream",
     "text": [
      "training accuracy: 0.518289205703\n",
      "testing  accuracy: 0.515657841141\n",
      "training f1 score: 0.0\n",
      "testing  f1 score: 0.0\n"
     ]
    },
    {
     "name": "stderr",
     "output_type": "stream",
     "text": [
      "C:\\Users\\luke computer\\Anaconda3\\lib\\site-packages\\sklearn\\metrics\\classification.py:1113: UndefinedMetricWarning: F-score is ill-defined and being set to 0.0 due to no predicted samples.\n",
      "  'precision', 'predicted', average, warn_for)\n"
     ]
    }
   ],
   "source": [
    "print('training accuracy:', mlp_clf.score(X_tn, y_tn))\n",
    "print('testing  accuracy:', mlp_clf.score(X_tt, y_tt))\n",
    "\n",
    "mlp_pred_tn = mlp_clf.predict(X_tn)\n",
    "mlp_pred_tt = mlp_clf.predict(X_tt)\n",
    "print('training f1 score:', metrics.f1_score(y_tn, mlp_pred_tn))\n",
    "print('testing  f1 score:', metrics.f1_score(y_tt, mlp_pred_tt))"
   ]
  },
  {
   "cell_type": "code",
   "execution_count": 16,
   "metadata": {
    "collapsed": false
   },
   "outputs": [],
   "source": [
    "# Probabilities\n",
    "DNN_prbb_tn = (mlp_clf.predict_proba(X_tn)[:,1]).reshape((n_tn, n))    # [:,1] to use only (probability to outperform)\n",
    "DNN_prbb_tt = (mlp_clf.predict_proba(X_tt)[:,1]).reshape((n_tt, n))\n",
    "\n",
    "# Sort and find [best k] & [worst k]\n",
    "DNN_argsort_tn = np.argsort(DNN_prbb_tn)\n",
    "DNN_best_k_tn  = DNN_argsort_tn[:,-k:]\n",
    "DNN_worst_k_tn = DNN_argsort_tn[:,:k]\n",
    "\n",
    "DNN_argsort_tt = np.argsort(DNN_prbb_tt)\n",
    "DNN_best_k_tt  = DNN_argsort_tt[:,-k:]\n",
    "DNN_worst_k_tt = DNN_argsort_tt[:,:k]"
   ]
  },
  {
   "cell_type": "markdown",
   "metadata": {},
   "source": [
    "### 2) GBT"
   ]
  },
  {
   "cell_type": "code",
   "execution_count": 17,
   "metadata": {
    "collapsed": false
   },
   "outputs": [],
   "source": [
    "# Gradient Boosted Tree: combination of weak learners(shallow trees) into one strong learner\n",
    "from sklearn.ensemble import GradientBoostingClassifier\n",
    "#gb_clf = GradientBoostingClassifier(n_estimators=100, learning_rate=0.1, max_depth=3, max_features=15, verbose=1, random_state=1)\n",
    "# temporary setup for speed\n",
    "gb_clf = GradientBoostingClassifier(n_estimators=5, learning_rate=0.1, max_depth=3, max_features=15, verbose=1, random_state=1)\n",
    "\n",
    "param_grid = [{'n_estimators': [50, 100, 300], 'max_features': [5, 10, 15, 31]}]\n",
    "#gsCV(adb_clf, param_grid, scorings)\n",
    "\n",
    "# Or use this one?\n",
    "from sklearn.ensemble import AdaBoostClassifier\n",
    "adb_clf = AdaBoostClassifier(n_estimators=100, learning_rate=0.1, random_state=1)\n",
    "\n",
    "param_grid = [{'n_estimators': [50, 100, 300]}]\n",
    "#gsCV(adb_clf, param_grid, scorings)"
   ]
  },
  {
   "cell_type": "code",
   "execution_count": 18,
   "metadata": {
    "collapsed": false
   },
   "outputs": [
    {
     "name": "stdout",
     "output_type": "stream",
     "text": [
      "      Iter       Train Loss   Remaining Time \n",
      "         1           1.3848           13.32s\n",
      "         2           1.3846            9.98s\n",
      "         3           1.3844            6.70s\n",
      "         4           1.3843            3.37s\n",
      "         5           1.3841            0.00s\n"
     ]
    },
    {
     "data": {
      "text/plain": [
       "GradientBoostingClassifier(criterion='friedman_mse', init=None,\n",
       "              learning_rate=0.1, loss='deviance', max_depth=3,\n",
       "              max_features=15, max_leaf_nodes=None,\n",
       "              min_impurity_split=1e-07, min_samples_leaf=1,\n",
       "              min_samples_split=2, min_weight_fraction_leaf=0.0,\n",
       "              n_estimators=5, presort='auto', random_state=1,\n",
       "              subsample=1.0, verbose=1, warm_start=False)"
      ]
     },
     "execution_count": 18,
     "metadata": {},
     "output_type": "execute_result"
    }
   ],
   "source": [
    "gb_clf.fit(X_tn, y_tn)"
   ]
  },
  {
   "cell_type": "code",
   "execution_count": 19,
   "metadata": {
    "collapsed": false
   },
   "outputs": [
    {
     "name": "stdout",
     "output_type": "stream",
     "text": [
      "training accuracy: 0.518454854039\n",
      "testing  accuracy: 0.515804480652\n",
      "training f1 score: 0.00136283514763\n",
      "testing  f1 score: 0.00305282050422\n"
     ]
    }
   ],
   "source": [
    "print('training accuracy:', gb_clf.score(X_tn, y_tn))\n",
    "print('testing  accuracy:', gb_clf.score(X_tt, y_tt))\n",
    "\n",
    "gb_pred_tn = gb_clf.predict(X_tn)\n",
    "gb_pred_tt = gb_clf.predict(X_tt)\n",
    "print('training f1 score:', metrics.f1_score(y_tn, gb_pred_tn))\n",
    "print('testing  f1 score:', metrics.f1_score(y_tt, gb_pred_tt))"
   ]
  },
  {
   "cell_type": "code",
   "execution_count": 20,
   "metadata": {
    "collapsed": false
   },
   "outputs": [],
   "source": [
    "# Probabilities\n",
    "GBT_prbb_tn = (gb_clf.predict_proba(X_tn)[:,1]).reshape((n_tn, n))    # [:,1] to use only (probability to outperform)\n",
    "GBT_prbb_tt = (gb_clf.predict_proba(X_tt)[:,1]).reshape((n_tt, n))\n",
    "\n",
    "# Sort and find [best k] & [worst k]\n",
    "GBT_argsort_tn = np.argsort(GBT_prbb_tn)\n",
    "GBT_best_k_tn  = GBT_argsort_tn[:,-k:]\n",
    "GBT_worst_k_tn = GBT_argsort_tn[:,:k]\n",
    "\n",
    "GBT_argsort_tt = np.argsort(GBT_prbb_tt)\n",
    "GBT_best_k_tt  = GBT_argsort_tt[:,-k:]\n",
    "GBT_worst_k_tt = GBT_argsort_tt[:,:k]"
   ]
  },
  {
   "cell_type": "markdown",
   "metadata": {},
   "source": [
    "### 3) RAF"
   ]
  },
  {
   "cell_type": "code",
   "execution_count": 21,
   "metadata": {
    "collapsed": false
   },
   "outputs": [],
   "source": [
    "# Random Forest: Combination of de-correlated trees that use a random subset of training data(Bagging) and features --> majority vote\n",
    "from sklearn.ensemble import RandomForestClassifier\n",
    "#rf_clf = RandomForestClassifier(n_estimators=1000, max_depth=20, max_features=5, n_jobs=4, verbose=2, random_state=1)\n",
    "# temporary setup for speed\n",
    "rf_clf = RandomForestClassifier(n_estimators=10, max_depth=20, max_features=5, n_jobs=4, verbose=2, random_state=1)\n",
    "\n",
    "param_grid = [{'n_estimators': [50, 100, 300], 'max_depth': [7, 10, 15]}]\n",
    "#gsCV(rf_clf, param_grid, scorings)"
   ]
  },
  {
   "cell_type": "code",
   "execution_count": 22,
   "metadata": {
    "collapsed": false,
    "scrolled": true
   },
   "outputs": [
    {
     "name": "stdout",
     "output_type": "stream",
     "text": [
      "building tree 1 of 10building tree 2 of 10\n",
      "\n",
      "building tree 3 of 10\n",
      "building tree 4 of 10\n",
      "building tree 5 of 10\n",
      "building tree 6 of 10\n",
      "building tree 7 of 10\n",
      "building tree 8 of 10\n",
      "building tree 9 of 10\n",
      "building tree 10 of 10\n"
     ]
    },
    {
     "name": "stderr",
     "output_type": "stream",
     "text": [
      "[Parallel(n_jobs=4)]: Done  10 out of  10 | elapsed:   27.4s finished\n"
     ]
    },
    {
     "data": {
      "text/plain": [
       "RandomForestClassifier(bootstrap=True, class_weight=None, criterion='gini',\n",
       "            max_depth=20, max_features=5, max_leaf_nodes=None,\n",
       "            min_impurity_split=1e-07, min_samples_leaf=1,\n",
       "            min_samples_split=2, min_weight_fraction_leaf=0.0,\n",
       "            n_estimators=10, n_jobs=4, oob_score=False, random_state=1,\n",
       "            verbose=2, warm_start=False)"
      ]
     },
     "execution_count": 22,
     "metadata": {},
     "output_type": "execute_result"
    }
   ],
   "source": [
    "rf_clf.fit(X_tn, y_tn)"
   ]
  },
  {
   "cell_type": "code",
   "execution_count": 23,
   "metadata": {
    "collapsed": false
   },
   "outputs": [
    {
     "name": "stdout",
     "output_type": "stream",
     "text": [
      "training accuracy: 0.807693143245\n",
      "testing  accuracy: 0.570256619145\n",
      "training f1 score: 0.789358620095\n",
      "testing  f1 score: 0.513757408722\n"
     ]
    }
   ],
   "source": [
    "rf_clf.verbose = 0    # be quiet now\n",
    "print('training accuracy:', rf_clf.score(X_tn, y_tn))\n",
    "print('testing  accuracy:', rf_clf.score(X_tt, y_tt))\n",
    "\n",
    "rf_pred_tn = rf_clf.predict(X_tn)\n",
    "rf_pred_tt = rf_clf.predict(X_tt)\n",
    "print('training f1 score:', metrics.f1_score(y_tn, rf_pred_tn))\n",
    "print('testing  f1 score:', metrics.f1_score(y_tt, rf_pred_tt))"
   ]
  },
  {
   "cell_type": "code",
   "execution_count": 24,
   "metadata": {
    "collapsed": false
   },
   "outputs": [],
   "source": [
    "# Probabilities\n",
    "RAF_prbb_tn = (rf_clf.predict_proba(X_tn)[:,1]).reshape((n_tn, n))    # [:,1] to use only (probability to outperform)\n",
    "RAF_prbb_tt = (rf_clf.predict_proba(X_tt)[:,1]).reshape((n_tt, n))\n",
    "\n",
    "# Sort and find [best k] & [worst k]\n",
    "RAF_argsort_tn = np.argsort(RAF_prbb_tn)\n",
    "RAF_best_k_tn  = RAF_argsort_tn[:,-k:]\n",
    "RAF_worst_k_tn = RAF_argsort_tn[:,:k]\n",
    "\n",
    "RAF_argsort_tt = np.argsort(RAF_prbb_tt)\n",
    "RAF_best_k_tt  = RAF_argsort_tt[:,-k:]\n",
    "RAF_worst_k_tt = RAF_argsort_tt[:,:k]"
   ]
  },
  {
   "cell_type": "markdown",
   "metadata": {},
   "source": [
    "### 4) ENS"
   ]
  },
  {
   "cell_type": "code",
   "execution_count": 25,
   "metadata": {
    "collapsed": false
   },
   "outputs": [],
   "source": [
    "# Probabilities\n",
    "ENS_prbb_tn = (DNN_prbb_tn + GBT_prbb_tn + RAF_prbb_tn) / 3\n",
    "ENS_prbb_tt = (DNN_prbb_tt + GBT_prbb_tt + RAF_prbb_tt) / 3\n",
    "\n",
    "# Sort and find [best k] & [worst k]\n",
    "ENS_argsort_tn = np.argsort(ENS_prbb_tn)\n",
    "ENS_best_k_tn  = ENS_argsort_tn[:,-k:]\n",
    "ENS_worst_k_tn = ENS_argsort_tn[:,:k]\n",
    "\n",
    "ENS_argsort_tt = np.argsort(ENS_prbb_tt)\n",
    "ENS_best_k_tt  = ENS_argsort_tt[:,-k:]\n",
    "ENS_worst_k_tt = ENS_argsort_tt[:,:k]"
   ]
  },
  {
   "cell_type": "code",
   "execution_count": 26,
   "metadata": {
    "collapsed": false
   },
   "outputs": [
    {
     "name": "stdout",
     "output_type": "stream",
     "text": [
      "training accuracy: 0.770281059063\n",
      "testing  accuracy: 0.5656700611\n",
      "training f1 score: 0.710078071985\n",
      "testing  f1 score: 0.420298364649\n"
     ]
    }
   ],
   "source": [
    "ens_pred_tn = np.where(ENS_prbb_tn > 0.5, 1., 0.).ravel()\n",
    "ens_pred_tt = np.where(ENS_prbb_tt > 0.5, 1., 0.).ravel()\n",
    "\n",
    "print('training accuracy:', (ens_pred_tn == y_tn).sum() / (y_tn.shape[0]))\n",
    "print('testing  accuracy:', (ens_pred_tt == y_tt).sum() / (y_tt.shape[0]))\n",
    "print('training f1 score:', metrics.f1_score(y_tn, ens_pred_tn))\n",
    "print('testing  f1 score:', metrics.f1_score(y_tt, ens_pred_tt))"
   ]
  },
  {
   "cell_type": "markdown",
   "metadata": {},
   "source": [
    "## 6. Performance metric"
   ]
  },
  {
   "cell_type": "code",
   "execution_count": 27,
   "metadata": {
    "collapsed": false
   },
   "outputs": [],
   "source": [
    "# Trading n_tt\n",
    "tc_bool = False    # transaction costs or not\n",
    "\n",
    "c = n_lb + n_tn\n",
    "def Trade_tt(best_k, worst_k):\n",
    "    R_L = np.zeros((n_tt, k))\n",
    "    R_S = np.zeros((n_tt, k))\n",
    "    \n",
    "    for i in range(n_tt):\n",
    "        # Rates of return of [long best k]\n",
    "        R_L[i] =   B_n[c+i+lookforward, best_k[i]]  / B_n[c+i, best_k[i]]  - 1.0\n",
    "        # Rates of return of [short worst k]\n",
    "        R_S[i] = - B_n[c+i+lookforward, worst_k[i]] / B_n[c+i, worst_k[i]] + 1.0\n",
    "\n",
    "        # Sum up\n",
    "        R_L_sum = R_L.sum(axis=1)\n",
    "        R_S_sum = R_S.sum(axis=1)\n",
    "        R_total = R_L_sum + R_S_sum\n",
    "\n",
    "    if tc_bool:\n",
    "        #tc = ?\n",
    "        #slippage = ?\n",
    "        pass\n",
    "\n",
    "    return R_total, R_L_sum, R_S_sum"
   ]
  },
  {
   "cell_type": "code",
   "execution_count": 28,
   "metadata": {
    "collapsed": false
   },
   "outputs": [],
   "source": [
    "DNN_R_total_tt, DNN_R_L_sum_tt, DNN_R_S_sum_tt = Trade_tt(DNN_best_k_tt, DNN_worst_k_tt)\n",
    "GBT_R_total_tt, GBT_R_L_sum_tt, GBT_R_S_sum_tt = Trade_tt(GBT_best_k_tt, GBT_worst_k_tt)\n",
    "RAF_R_total_tt, RAF_R_L_sum_tt, RAF_R_S_sum_tt = Trade_tt(RAF_best_k_tt, RAF_worst_k_tt)\n",
    "ENS_R_total_tt, ENS_R_L_sum_tt, ENS_R_S_sum_tt = Trade_tt(ENS_best_k_tt, ENS_worst_k_tt)"
   ]
  },
  {
   "cell_type": "code",
   "execution_count": 29,
   "metadata": {
    "collapsed": false,
    "scrolled": true
   },
   "outputs": [
    {
     "data": {
      "image/png": "[encoded data removed]",
      "text/plain": [
       "<matplotlib.figure.Figure at 0x21bd6ec7390>"
      ]
     },
     "metadata": {},
     "output_type": "display_data"
    }
   ],
   "source": [
    "import matplotlib.pyplot as plt\n",
    "#%matplotlib inline\n",
    "\n",
    "plt.plot(range(n_tt), DNN_R_total_tt)\n",
    "#plt.plot(range(n_tt), GBT_R_total_tt)\n",
    "#plt.plot(range(n_tt), RAF_R_total_tt)\n",
    "plt.plot(range(n_tt), ENS_R_total_tt)\n",
    "plt.legend(('DNN', 'ENS'))\n",
    "plt.show()"
   ]
  },
  {
   "cell_type": "code",
   "execution_count": 30,
   "metadata": {
    "collapsed": false
   },
   "outputs": [
    {
     "data": {
      "image/png": "[encoded data removed]",
      "text/plain": [
       "<matplotlib.figure.Figure at 0x21bd6fd3240>"
      ]
     },
     "metadata": {},
     "output_type": "display_data"
    }
   ],
   "source": [
    "# Trading n_tn\n",
    "\n",
    "c = n_lb\n",
    "def Trade_tn(best_k, worst_k):\n",
    "    R_L = np.zeros((n_tn, k))\n",
    "    R_S = np.zeros((n_tn, k))\n",
    "    \n",
    "    for i in range(n_tn):\n",
    "        # Rates of return of [long best k]\n",
    "        R_L[i] =   B_n[c+i+lookforward, best_k[i]]  / B_n[c+i, best_k[i]]  - 1.0\n",
    "        # Rates of return of [short worst k]\n",
    "        R_S[i] = - B_n[c+i+lookforward, worst_k[i]] / B_n[c+i, worst_k[i]] + 1.0\n",
    "\n",
    "        # Sum up\n",
    "        R_L_sum = R_L.sum(axis=1)\n",
    "        R_S_sum = R_S.sum(axis=1)\n",
    "        R_total = R_L_sum + R_S_sum\n",
    "\n",
    "    if tc_bool:\n",
    "        #tc = ?\n",
    "        #slippage = ?\n",
    "        pass\n",
    "\n",
    "    return R_total, R_L_sum, R_S_sum\n",
    "\n",
    "\n",
    "DNN_R_total_tn, DNN_R_L_sum_tn, DNN_R_S_sum_tn = Trade_tn(DNN_best_k_tn, DNN_worst_k_tn)\n",
    "GBT_R_total_tn, GBT_R_L_sum_tn, GBT_R_S_sum_tn = Trade_tn(GBT_best_k_tn, GBT_worst_k_tn)\n",
    "RAF_R_total_tn, RAF_R_L_sum_tn, RAF_R_S_sum_tn = Trade_tn(RAF_best_k_tn, RAF_worst_k_tn)\n",
    "ENS_R_total_tn, ENS_R_L_sum_tn, ENS_R_S_sum_tn = Trade_tn(ENS_best_k_tn, ENS_worst_k_tn)\n",
    "\n",
    "\n",
    "plt.plot(range(n_tn), DNN_R_total_tn)\n",
    "#plt.plot(range(n_tn), GBT_R_total_tn)\n",
    "#plt.plot(range(n_tn), RAF_R_total_tn)\n",
    "plt.plot(range(n_tn), ENS_R_total_tn)\n",
    "plt.legend(('DNN', 'ENS'))\n",
    "plt.show()"
   ]
  },
  {
   "cell_type": "markdown",
   "metadata": {},
   "source": [
    "## 7. MODEL"
   ]
  },
  {
   "cell_type": "markdown",
   "metadata": {},
   "source": [
    "## 8. REAL data"
   ]
  },
  {
   "cell_type": "markdown",
   "metadata": {},
   "source": [
    "## 9. Reap\n",
    "\n",
    "A prototype for future development"
   ]
  }
 ],
 "metadata": {
  "anaconda-cloud": {},
  "kernelspec": {
   "display_name": "Python [conda root]",
   "language": "python",
   "name": "conda-root-py"
  },
  "language_info": {
   "codemirror_mode": {
    "name": "ipython",
    "version": 3
   },
   "file_extension": ".py",
   "mimetype": "text/x-python",
   "name": "python",
   "nbconvert_exporter": "python",
   "pygments_lexer": "ipython3",
   "version": "3.5.2"
  }
 },
 "nbformat": 4,
 "nbformat_minor": 2
}
